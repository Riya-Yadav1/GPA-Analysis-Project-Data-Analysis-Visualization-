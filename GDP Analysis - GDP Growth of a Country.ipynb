{
 "cells": [
  {
   "cell_type": "code",
   "execution_count": 3,
   "id": "a030f6ba-78dc-4877-aa24-9dcb53e28618",
   "metadata": {},
   "outputs": [],
   "source": [
    "import pandas as pd"
   ]
  },
  {
   "cell_type": "code",
   "execution_count": 5,
   "id": "aa51e894-97a8-4cd4-aeda-f0cba935bf9f",
   "metadata": {},
   "outputs": [],
   "source": [
    "df=pd.read_csv('gdp.csv')"
   ]
  },
  {
   "cell_type": "code",
   "execution_count": 7,
   "id": "455d7212-fb71-4cd2-b5b0-4739bf38bb2a",
   "metadata": {},
   "outputs": [
    {
     "data": {
      "text/html": [
       "<div>\n",
       "<style scoped>\n",
       "    .dataframe tbody tr th:only-of-type {\n",
       "        vertical-align: middle;\n",
       "    }\n",
       "\n",
       "    .dataframe tbody tr th {\n",
       "        vertical-align: top;\n",
       "    }\n",
       "\n",
       "    .dataframe thead th {\n",
       "        text-align: right;\n",
       "    }\n",
       "</style>\n",
       "<table border=\"1\" class=\"dataframe\">\n",
       "  <thead>\n",
       "    <tr style=\"text-align: right;\">\n",
       "      <th></th>\n",
       "      <th>Country Name</th>\n",
       "      <th>Country Code</th>\n",
       "      <th>Year</th>\n",
       "      <th>Value</th>\n",
       "    </tr>\n",
       "  </thead>\n",
       "  <tbody>\n",
       "    <tr>\n",
       "      <th>0</th>\n",
       "      <td>Arab World</td>\n",
       "      <td>ARB</td>\n",
       "      <td>1968</td>\n",
       "      <td>2.576068e+10</td>\n",
       "    </tr>\n",
       "    <tr>\n",
       "      <th>1</th>\n",
       "      <td>Arab World</td>\n",
       "      <td>ARB</td>\n",
       "      <td>1969</td>\n",
       "      <td>2.843420e+10</td>\n",
       "    </tr>\n",
       "    <tr>\n",
       "      <th>2</th>\n",
       "      <td>Arab World</td>\n",
       "      <td>ARB</td>\n",
       "      <td>1970</td>\n",
       "      <td>3.138550e+10</td>\n",
       "    </tr>\n",
       "    <tr>\n",
       "      <th>3</th>\n",
       "      <td>Arab World</td>\n",
       "      <td>ARB</td>\n",
       "      <td>1971</td>\n",
       "      <td>3.642691e+10</td>\n",
       "    </tr>\n",
       "    <tr>\n",
       "      <th>4</th>\n",
       "      <td>Arab World</td>\n",
       "      <td>ARB</td>\n",
       "      <td>1972</td>\n",
       "      <td>4.331606e+10</td>\n",
       "    </tr>\n",
       "  </tbody>\n",
       "</table>\n",
       "</div>"
      ],
      "text/plain": [
       "  Country Name Country Code  Year         Value\n",
       "0   Arab World          ARB  1968  2.576068e+10\n",
       "1   Arab World          ARB  1969  2.843420e+10\n",
       "2   Arab World          ARB  1970  3.138550e+10\n",
       "3   Arab World          ARB  1971  3.642691e+10\n",
       "4   Arab World          ARB  1972  4.331606e+10"
      ]
     },
     "execution_count": 7,
     "metadata": {},
     "output_type": "execute_result"
    }
   ],
   "source": [
    "df.head()"
   ]
  },
  {
   "cell_type": "code",
   "execution_count": 9,
   "id": "9419a0e9-52ab-4272-9953-78c86e4d0bb5",
   "metadata": {},
   "outputs": [],
   "source": [
    "df_pr=df[df['Country Name']=='Arab World']"
   ]
  },
  {
   "cell_type": "code",
   "execution_count": 35,
   "id": "3c64a7e7-90c3-4b2a-825f-8aa75c78aa9c",
   "metadata": {},
   "outputs": [
    {
     "name": "stdout",
     "output_type": "stream",
     "text": [
      "1969 10.38\n",
      "1970 10.38\n",
      "1971 16.06\n",
      "1972 18.91\n",
      "1973 27.02\n",
      "1974 91.11\n",
      "1975 10.64\n",
      "1976 24.51\n",
      "1977 15.51\n",
      "1978 9.71\n",
      "1979 35.46\n",
      "1980 36.01\n",
      "1981 3.08\n",
      "1982 -6.96\n",
      "1983 -6.28\n",
      "1984 1.31\n",
      "1985 -1.31\n",
      "1986 -4.89\n",
      "1987 8.18\n",
      "1988 -1.66\n",
      "1989 4.82\n",
      "1990 38.64\n",
      "1991 -1.59\n",
      "1992 7.14\n",
      "1993 1.14\n",
      "1994 2.31\n",
      "1995 7.43\n",
      "1996 10.4\n",
      "1997 6.06\n",
      "1998 -3.55\n",
      "1999 8.85\n",
      "2000 14.15\n",
      "2001 -1.6\n",
      "2002 0.8\n",
      "2003 12.9\n",
      "2004 17.1\n",
      "2005 22.91\n",
      "2006 18.52\n",
      "2007 16.63\n",
      "2008 26.9\n",
      "2009 -13.58\n",
      "2010 17.48\n",
      "2011 18.58\n",
      "2012 9.58\n",
      "2013 3.59\n",
      "2014 2.36\n",
      "2015 -11.81\n",
      "2016 -2.29\n"
     ]
    }
   ],
   "source": [
    "data=df_pr.values\n",
    "\n",
    "for i in range(1,len(data)):\n",
    "    prev=data[i-1][3]\n",
    "    cur=data[i][3]\n",
    "    print(data[i][2],round(((cur-prev)/prev)*100,2))"
   ]
  },
  {
   "cell_type": "code",
   "execution_count": null,
   "id": "e61353f6-67dd-4e3c-b362-f70ffc57990d",
   "metadata": {},
   "outputs": [],
   "source": []
  }
 ],
 "metadata": {
  "kernelspec": {
   "display_name": "Python 3 (ipykernel)",
   "language": "python",
   "name": "python3"
  },
  "language_info": {
   "codemirror_mode": {
    "name": "ipython",
    "version": 3
   },
   "file_extension": ".py",
   "mimetype": "text/x-python",
   "name": "python",
   "nbconvert_exporter": "python",
   "pygments_lexer": "ipython3",
   "version": "3.12.4"
  }
 },
 "nbformat": 4,
 "nbformat_minor": 5
}
